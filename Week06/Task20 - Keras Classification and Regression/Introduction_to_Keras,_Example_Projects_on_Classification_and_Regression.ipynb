{
  "cells": [
    {
      "cell_type": "code",
      "execution_count": 4,
      "metadata": {
        "id": "q5B2LclzR3WW"
      },
      "outputs": [],
      "source": [
        "from keras.datasets import imdb\n",
        "import numpy as np"
      ]
    },
    {
      "cell_type": "markdown",
      "metadata": {
        "id": "b7r-1wk1isQL"
      },
      "source": [
        "The argument num_words=10000 means you’ll only keep the top 10,000 most fre-\n",
        "quently occurring words in the training data. Rare words will be discarded. This allows\n",
        "\n",
        "you to work with vector data of manageable size."
      ]
    },
    {
      "cell_type": "code",
      "execution_count": 5,
      "metadata": {
        "colab": {
          "base_uri": "https://localhost:8080/"
        },
        "id": "OlR6pmJFWA1B",
        "outputId": "1cd4a211-8738-465e-eb6e-c0f35657c66b"
      },
      "outputs": [
        {
          "output_type": "stream",
          "name": "stdout",
          "text": [
            "Downloading data from https://storage.googleapis.com/tensorflow/tf-keras-datasets/imdb.npz\n",
            "17464789/17464789 [==============================] - 0s 0us/step\n"
          ]
        },
        {
          "output_type": "execute_result",
          "data": {
            "text/plain": [
              "[1,\n",
              " 14,\n",
              " 22,\n",
              " 16,\n",
              " 43,\n",
              " 530,\n",
              " 973,\n",
              " 1622,\n",
              " 1385,\n",
              " 65,\n",
              " 458,\n",
              " 4468,\n",
              " 66,\n",
              " 3941,\n",
              " 4,\n",
              " 173,\n",
              " 36,\n",
              " 256,\n",
              " 5,\n",
              " 25,\n",
              " 100,\n",
              " 43,\n",
              " 838,\n",
              " 112,\n",
              " 50,\n",
              " 670,\n",
              " 2,\n",
              " 9,\n",
              " 35,\n",
              " 480,\n",
              " 284,\n",
              " 5,\n",
              " 150,\n",
              " 4,\n",
              " 172,\n",
              " 112,\n",
              " 167,\n",
              " 2,\n",
              " 336,\n",
              " 385,\n",
              " 39,\n",
              " 4,\n",
              " 172,\n",
              " 4536,\n",
              " 1111,\n",
              " 17,\n",
              " 546,\n",
              " 38,\n",
              " 13,\n",
              " 447,\n",
              " 4,\n",
              " 192,\n",
              " 50,\n",
              " 16,\n",
              " 6,\n",
              " 147,\n",
              " 2025,\n",
              " 19,\n",
              " 14,\n",
              " 22,\n",
              " 4,\n",
              " 1920,\n",
              " 4613,\n",
              " 469,\n",
              " 4,\n",
              " 22,\n",
              " 71,\n",
              " 87,\n",
              " 12,\n",
              " 16,\n",
              " 43,\n",
              " 530,\n",
              " 38,\n",
              " 76,\n",
              " 15,\n",
              " 13,\n",
              " 1247,\n",
              " 4,\n",
              " 22,\n",
              " 17,\n",
              " 515,\n",
              " 17,\n",
              " 12,\n",
              " 16,\n",
              " 626,\n",
              " 18,\n",
              " 2,\n",
              " 5,\n",
              " 62,\n",
              " 386,\n",
              " 12,\n",
              " 8,\n",
              " 316,\n",
              " 8,\n",
              " 106,\n",
              " 5,\n",
              " 4,\n",
              " 2223,\n",
              " 5244,\n",
              " 16,\n",
              " 480,\n",
              " 66,\n",
              " 3785,\n",
              " 33,\n",
              " 4,\n",
              " 130,\n",
              " 12,\n",
              " 16,\n",
              " 38,\n",
              " 619,\n",
              " 5,\n",
              " 25,\n",
              " 124,\n",
              " 51,\n",
              " 36,\n",
              " 135,\n",
              " 48,\n",
              " 25,\n",
              " 1415,\n",
              " 33,\n",
              " 6,\n",
              " 22,\n",
              " 12,\n",
              " 215,\n",
              " 28,\n",
              " 77,\n",
              " 52,\n",
              " 5,\n",
              " 14,\n",
              " 407,\n",
              " 16,\n",
              " 82,\n",
              " 2,\n",
              " 8,\n",
              " 4,\n",
              " 107,\n",
              " 117,\n",
              " 5952,\n",
              " 15,\n",
              " 256,\n",
              " 4,\n",
              " 2,\n",
              " 7,\n",
              " 3766,\n",
              " 5,\n",
              " 723,\n",
              " 36,\n",
              " 71,\n",
              " 43,\n",
              " 530,\n",
              " 476,\n",
              " 26,\n",
              " 400,\n",
              " 317,\n",
              " 46,\n",
              " 7,\n",
              " 4,\n",
              " 2,\n",
              " 1029,\n",
              " 13,\n",
              " 104,\n",
              " 88,\n",
              " 4,\n",
              " 381,\n",
              " 15,\n",
              " 297,\n",
              " 98,\n",
              " 32,\n",
              " 2071,\n",
              " 56,\n",
              " 26,\n",
              " 141,\n",
              " 6,\n",
              " 194,\n",
              " 7486,\n",
              " 18,\n",
              " 4,\n",
              " 226,\n",
              " 22,\n",
              " 21,\n",
              " 134,\n",
              " 476,\n",
              " 26,\n",
              " 480,\n",
              " 5,\n",
              " 144,\n",
              " 30,\n",
              " 5535,\n",
              " 18,\n",
              " 51,\n",
              " 36,\n",
              " 28,\n",
              " 224,\n",
              " 92,\n",
              " 25,\n",
              " 104,\n",
              " 4,\n",
              " 226,\n",
              " 65,\n",
              " 16,\n",
              " 38,\n",
              " 1334,\n",
              " 88,\n",
              " 12,\n",
              " 16,\n",
              " 283,\n",
              " 5,\n",
              " 16,\n",
              " 4472,\n",
              " 113,\n",
              " 103,\n",
              " 32,\n",
              " 15,\n",
              " 16,\n",
              " 5345,\n",
              " 19,\n",
              " 178,\n",
              " 32]"
            ]
          },
          "metadata": {},
          "execution_count": 5
        }
      ],
      "source": [
        "(train_data, train_labels), (test_data, test_labels) = imdb.load_data(num_words=10000)\n",
        "train_data[0]"
      ]
    },
    {
      "cell_type": "code",
      "execution_count": 6,
      "metadata": {
        "colab": {
          "base_uri": "https://localhost:8080/"
        },
        "id": "pyGGDuIXWUVU",
        "outputId": "a7f78ca3-6137-454e-f035-8376759b544d"
      },
      "outputs": [
        {
          "output_type": "execute_result",
          "data": {
            "text/plain": [
              "array([1, 0, 0, ..., 0, 1, 0])"
            ]
          },
          "metadata": {},
          "execution_count": 6
        }
      ],
      "source": [
        "train_labels"
      ]
    },
    {
      "cell_type": "markdown",
      "metadata": {
        "id": "Wt4X-McTWj6v"
      },
      "source": [
        "The variables train_data and test_data are lists of reviews; each review is a list of\n",
        "word indices (encoding a sequence of words). train_labels and test_labels are\n",
        "lists of 0s and 1s, where 0 stands for negative and 1 stands for positive:"
      ]
    },
    {
      "cell_type": "code",
      "execution_count": 7,
      "metadata": {
        "colab": {
          "base_uri": "https://localhost:8080/"
        },
        "id": "-YNQN6IJijPT",
        "outputId": "177dede8-e94b-49d5-8009-44d01fca8f35"
      },
      "outputs": [
        {
          "output_type": "execute_result",
          "data": {
            "text/plain": [
              "9999"
            ]
          },
          "metadata": {},
          "execution_count": 7
        }
      ],
      "source": [
        "max(max(i) for i in train_data )\n",
        "# Because you’re restricting yourself to the top 10,000 most frequent words, no word\n",
        "# index will exceed 10,000"
      ]
    },
    {
      "cell_type": "markdown",
      "metadata": {
        "id": "_a27P4PglhCN"
      },
      "source": [
        "The expression **`max(max(i) for i in train_data)`** is a Python one-liner that calculates the maximum value among all the maximum values in each sublist of **`train_data`**. Here, **`train_data`** is assumed to be a list of lists, where each sublist represents a set of data points.\n",
        "\n",
        "Let's break it down step-by-step:\n",
        "\n",
        "**`max(i)`** computes the maximum value within each sublist i of **`train_data`**.\n",
        "The generator expression **`(max(i)`** for i in **`train_data`**) iterates over each sublist in **`train_data`**, applying the max() function to each one, and generates a sequence of maximum values.\n",
        "Finally, max() is applied to the sequence of maximum values, yielding the overall maximum value among all sublists in **`train_data`**."
      ]
    },
    {
      "cell_type": "code",
      "execution_count": 8,
      "metadata": {
        "colab": {
          "base_uri": "https://localhost:8080/",
          "height": 140
        },
        "id": "FbHSrffpjYTM",
        "outputId": "a50e0656-a42d-4d96-f9fa-c257fd0f4119"
      },
      "outputs": [
        {
          "output_type": "stream",
          "name": "stdout",
          "text": [
            "Downloading data from https://storage.googleapis.com/tensorflow/tf-keras-datasets/imdb_word_index.json\n",
            "1641221/1641221 [==============================] - 0s 0us/step\n"
          ]
        },
        {
          "output_type": "execute_result",
          "data": {
            "text/plain": [
              "\"? this film was just brilliant casting location scenery story direction everyone's really suited the part they played and you could just imagine being there robert ? is an amazing actor and now the same being director ? father came from the same scottish island as myself so i loved the fact there was a real connection with this film the witty remarks throughout the film were great it was just brilliant so much that i bought the film as soon as it was released for ? and would recommend it to everyone to watch and the fly fishing was amazing really cried at the end it was so sad and you know what they say if you cry at a film it must have been good and this definitely was also ? to the two little boy's that played the ? of norman and paul they were just brilliant children are often left out of the ? list i think because the stars that play them all grown up are such a big profile for the whole film but these children are amazing and should be praised for what they have done don't you think the whole story was so lovely because it was true and was someone's life after all that was shared with us all\""
            ],
            "application/vnd.google.colaboratory.intrinsic+json": {
              "type": "string"
            }
          },
          "metadata": {},
          "execution_count": 8
        }
      ],
      "source": [
        "word_index = imdb.get_word_index()\n",
        "reverse_word_index = dict(\n",
        "[(value, key) for (key, value) in word_index.items()])\n",
        "decoded_review = ' '.join(\n",
        "[reverse_word_index.get(i - 3, '?') for i in train_data[0]])\n",
        "decoded_review"
      ]
    },
    {
      "cell_type": "markdown",
      "metadata": {
        "id": "Hni6hKY5KG1d"
      },
      "source": [
        "word_index = imdb.get_word_index(): Retrieves the word index dictionary from the IMDB dataset. Keys are word strings, and values are their corresponding integer indices keras.io.\n",
        "\n",
        "reverse_word_index = dict([(value, key) for (key, value) in word_index.items()]): Creates a new dictionary called reverse_word_index by reversing the key-value pairs in the original word_index. The new dictionary has integer indices as keys and word strings as values.\n",
        "\n",
        "decoded_review = ' '.join([reverse_word_index.get(i - 3, '?') for i in train_data[0]]): Decodes the first movie review in train_data by performing the following steps:\n",
        "\n",
        "Iterate through each integer i in the first review of train_data.\n",
        "Subtract 3 from the integer value (i - 3). This is because the first 3 indices in the word index are reserved for special characters (\"<PAD>\", \"<START>\", and \"<UNK>\") stackoverflow.com.\n",
        "Use the get() method to look up the word corresponding to the modified integer value in reverse_word_index. If the index is not found, use the default character '?'.\n",
        "\n",
        "Join the words together using a space separator (' '.join()), resulting in a human-readable string for the decoded review.\n",
        "\n",
        "The resulting decoded_review is a string containing the original text of the first movie review in the train_data. This code snippet is useful for understanding the content of the reviews and verifying the correctness of the preprocessing steps applied to the data."
      ]
    },
    {
      "cell_type": "code",
      "execution_count": 9,
      "metadata": {
        "colab": {
          "base_uri": "https://localhost:8080/"
        },
        "id": "Ytb25TUYLgwW",
        "outputId": "79a22355-a6f7-42cc-8b81-dcd6add926a0"
      },
      "outputs": [
        {
          "output_type": "execute_result",
          "data": {
            "text/plain": [
              "(array([[0., 1., 1., ..., 0., 0., 0.],\n",
              "        [0., 1., 1., ..., 0., 0., 0.],\n",
              "        [0., 1., 1., ..., 0., 0., 0.],\n",
              "        ...,\n",
              "        [0., 1., 1., ..., 0., 0., 0.],\n",
              "        [0., 1., 1., ..., 0., 0., 0.],\n",
              "        [0., 1., 1., ..., 0., 0., 0.]]),\n",
              " array([[0., 1., 1., ..., 0., 0., 0.],\n",
              "        [0., 1., 1., ..., 0., 0., 0.],\n",
              "        [0., 1., 1., ..., 0., 0., 0.],\n",
              "        ...,\n",
              "        [0., 1., 1., ..., 0., 0., 0.],\n",
              "        [0., 1., 1., ..., 0., 0., 0.],\n",
              "        [0., 1., 1., ..., 0., 0., 0.]]))"
            ]
          },
          "metadata": {},
          "execution_count": 9
        }
      ],
      "source": [
        "import numpy as np\n",
        "\n",
        "def vectorize_sequences(sequences, dimension=10000):\n",
        "  results = np.zeros((len(sequences), dimension))\n",
        "  for i, sequence in enumerate(sequences):\n",
        "    results[i, sequence] = 1.\n",
        "  return results\n",
        "\n",
        "x_train = vectorize_sequences(train_data)\n",
        "x_test = vectorize_sequences(test_data)\n",
        "\n",
        "x_train, x_test"
      ]
    },
    {
      "cell_type": "code",
      "execution_count": 10,
      "metadata": {
        "colab": {
          "base_uri": "https://localhost:8080/"
        },
        "id": "Li9u5Xnxdi-f",
        "outputId": "5d8073ab-02b4-4c3d-d36a-2d237c1ce2a4"
      },
      "outputs": [
        {
          "output_type": "execute_result",
          "data": {
            "text/plain": [
              "(25000, 25000, 25000, 25000)"
            ]
          },
          "metadata": {},
          "execution_count": 10
        }
      ],
      "source": [
        "len(x_train), len(x_test), len(test_labels), len(train_labels)"
      ]
    },
    {
      "cell_type": "markdown",
      "metadata": {
        "id": "cWx-jU5FQi97"
      },
      "source": [
        "The provided code defines a function vectorize_sequences that one-hot encodes a list of sequences of integers and then applies this function to both train_data and test_data.\n",
        "\n",
        "Here's a step-by-step explanation of the code:\n",
        "\n",
        "Define the vectorize_sequences function with two arguments: sequences, which is a list of sequences of integers, and dimension, which is the size of the one-hot encoded vectors (default is 10,000).\n",
        "\n",
        "Inside the function, create an empty array results with the shape (len(sequences), dimension), filled with zeros. Each row in results will represent a one-hot encoded sequence.\n",
        "\n",
        "Iterate through the sequences using enumeration to get both the index i and the sequence. For each sequence, set the corresponding positions in the results array to 1, based on the integer values in the sequence.\n",
        "\n",
        "Return the results array containing the one-hot encoded sequences.\n",
        "\n",
        "Apply the vectorize_sequences function to both train_data and test_data to obtain one-hot encoded versions of the input data, named x_train and x_test.\n",
        "\n",
        "Based on the context provided, I'll give a practical example of one-hot encoding using the vectorize_sequences function from the previous answer.\n",
        "\n",
        "Suppose you have the following input sequences, which represent the indices of words in a sample text:\n",
        "\n",
        "\n",
        "\n",
        "```\n",
        "input_sequences = [\n",
        "    [1, 3, 5],\n",
        "    [2, 4, 6, 8],\n",
        "    [7, 9, 3]\n",
        "]\n",
        "\n",
        "```\n",
        "\n",
        "Using the vectorize_sequences function, you can one-hot encode these sequences:\n",
        "\n",
        "`encoded_sequences = vectorize_sequences(input_sequences, dimension=10)`\n",
        "\n",
        "Now, encoded_sequences will contain one-hot encoded vectors:\n",
        "\n",
        "```[\n",
        "    [\n",
        "        [0, 1, 0, 1, 0, 1, 0, 0, 0, 0],\n",
        "        [0, 0, 1, 0, 1, 0, 1, 0, 1, 0],\n",
        "        [0, 0, 0, 1, 0, 0, 0, 1, 0, 1]\n",
        "    ]\n",
        "]\n",
        "```\n",
        "\n",
        "Here's a visual representation of the one-hot encoding:\n",
        "\n",
        "\n",
        "\n",
        "```\n",
        " Input Sequences:   Encoded Sequences:\n",
        "\n",
        "1 3 5              0 1 0 1 0 1 0 0 0 0\n",
        "2 4 6 8            0 0 1 0 1 0 1 0 1 0\n",
        "7 9 3              0 0 0 1 0 0 0 1 0 1\n",
        "\n",
        "```\n",
        "\n",
        "In the encoded sequences, each row represents a sequence from the input data, and each column represents the presence (1) or absence (0) of a word at that index. For example, the first sequence [1, 3, 5] is encoded as [0, 1, 0, 1, 0, 1, 0, 0, 0, 0], where the 1s are placed at indices 1, 3, and 5.\n",
        "\n",
        "\n",
        "\n"
      ]
    },
    {
      "cell_type": "code",
      "execution_count": 11,
      "metadata": {
        "colab": {
          "base_uri": "https://localhost:8080/"
        },
        "id": "7f24SEAlQHbM",
        "outputId": "18f0b4b2-5cab-4f44-ea30-48ea993ed725"
      },
      "outputs": [
        {
          "output_type": "execute_result",
          "data": {
            "text/plain": [
              "array([1., 0., 0., ..., 0., 1., 0.], dtype=float32)"
            ]
          },
          "metadata": {},
          "execution_count": 11
        }
      ],
      "source": [
        "y_train = np.asarray(train_labels).astype('float32')\n",
        "y_test = np.asarray(test_labels).astype('float32')\n",
        "\n",
        "y_train"
      ]
    },
    {
      "cell_type": "markdown",
      "metadata": {
        "id": "ZTDeHVvOWsok"
      },
      "source": [
        "Here's a breakdown of what each part of the code does:\n",
        "\n",
        "np.asarray(): Converts the input train_labels and test_labels to NumPy arrays if they are not already arrays. This is useful for ensuring that the data is in the correct format for processing with NumPy functions and Keras models. numpy.org\n",
        "\n",
        ".astype('float32'): Casts the data type of the NumPy arrays to float32. Neural networks usually work with floating-point numbers, and using float32 can help save memory and computational resources compared to the default float64 data type.\n",
        "\n",
        "After executing this code, y_train and y_test will be NumPy arrays containing the converted training and test labels, respectively. These arrays can then be used as target labels when training and evaluating a neural network model."
      ]
    },
    {
      "cell_type": "markdown",
      "metadata": {
        "id": "yaL7ukpbW1Sd"
      },
      "source": [
        "The input data is vectors, and the labels are scalars (1s and 0s): this is the easiest setup\n",
        "you’ll ever encounter. A type of network that performs well on such a problem is\n",
        "a simple stack of fully connected (Dense) layers with relu activations: Dense(16,\n",
        "activation='relu')."
      ]
    },
    {
      "cell_type": "markdown",
      "metadata": {
        "id": "pq_dRqHDX6v0"
      },
      "source": [
        "Hidden units in a neural network determine the dimensionality of the representation space, which can be thought of as the \"freedom\" the network has to learn internal representations.\n",
        "\n",
        "Having more hidden units (a higher-dimensional representation space) allows the network to learn more complex representations, which can help improve the model's accuracy.\n",
        "\n",
        "However, increasing the number of hidden units also increases the computational cost of the network and may lead to learning unwanted patterns that improve performance on the training data but not on the test data (overfitting).\n"
      ]
    },
    {
      "cell_type": "code",
      "execution_count": 12,
      "metadata": {
        "id": "bj6KEtwwWts1"
      },
      "outputs": [],
      "source": [
        "from keras import models\n",
        "from keras import layers\n",
        "\n",
        "model = models.Sequential()\n",
        "model.add(layers.Dense(16,activation='relu', input_shape=(10000,)))\n",
        "model.add(layers.Dense(16, activation='relu'))\n",
        "model.add(layers.Dense(1, activation='sigmoid'))"
      ]
    },
    {
      "cell_type": "markdown",
      "metadata": {
        "id": "LE64nZT6cOBr"
      },
      "source": [
        "Optimizer and loss function"
      ]
    },
    {
      "cell_type": "markdown",
      "metadata": {
        "id": "HCBD_x-YbsqZ"
      },
      "source": [
        "crossentropy is usually the best choice when you’re dealing\n",
        "\n",
        "with models that output probabilities."
      ]
    },
    {
      "cell_type": "code",
      "execution_count": 13,
      "metadata": {
        "id": "8lu6Enh0W0vs"
      },
      "outputs": [],
      "source": [
        "model.compile(optimizer='rmsprop',\n",
        "    loss='binary_crossentropy',\n",
        "    metrics=['accuracy'])"
      ]
    },
    {
      "cell_type": "markdown",
      "metadata": {
        "id": "g7ZsP1KKcLwr"
      },
      "source": [
        "Validation :"
      ]
    },
    {
      "cell_type": "code",
      "execution_count": 14,
      "metadata": {
        "id": "0CCPhkrHcLDK"
      },
      "outputs": [],
      "source": [
        "x_val = x_train[:10000]\n",
        "partial_x_train = x_train[10000:]"
      ]
    },
    {
      "cell_type": "code",
      "execution_count": 15,
      "metadata": {
        "id": "7dqM5Uv6cY-D"
      },
      "outputs": [],
      "source": [
        "y_val = y_train[:10000]\n",
        "partial_y_train = y_train[10000:]"
      ]
    },
    {
      "cell_type": "markdown",
      "metadata": {
        "id": "lduNJRndciC4"
      },
      "source": [
        "train the model for 20 epochs (20 iterations over all samples in the\n",
        "x_train and y_train tensors), in mini-batches of 512 samples. At the same time,\n",
        "you’ll monitor loss and accuracy on the 10,000 samples that you set apart. You do so by\n",
        "passing the validation data as the validation_data argument."
      ]
    },
    {
      "cell_type": "code",
      "execution_count": 16,
      "metadata": {
        "colab": {
          "base_uri": "https://localhost:8080/"
        },
        "id": "L7UWqUCycjRO",
        "outputId": "cabfebd6-5fbd-4399-facb-5d1e067aa0b1"
      },
      "outputs": [
        {
          "output_type": "stream",
          "name": "stdout",
          "text": [
            "Epoch 1/20\n",
            "30/30 [==============================] - 4s 82ms/step - loss: 0.5202 - accuracy: 0.7705 - val_loss: 0.3855 - val_accuracy: 0.8717\n",
            "Epoch 2/20\n",
            "30/30 [==============================] - 1s 45ms/step - loss: 0.3134 - accuracy: 0.8975 - val_loss: 0.3194 - val_accuracy: 0.8797\n",
            "Epoch 3/20\n",
            "30/30 [==============================] - 2s 53ms/step - loss: 0.2313 - accuracy: 0.9235 - val_loss: 0.2827 - val_accuracy: 0.8902\n",
            "Epoch 4/20\n",
            "30/30 [==============================] - 1s 46ms/step - loss: 0.1841 - accuracy: 0.9387 - val_loss: 0.2822 - val_accuracy: 0.8858\n",
            "Epoch 5/20\n",
            "30/30 [==============================] - 2s 66ms/step - loss: 0.1509 - accuracy: 0.9509 - val_loss: 0.2937 - val_accuracy: 0.8844\n",
            "Epoch 6/20\n",
            "30/30 [==============================] - 2s 75ms/step - loss: 0.1266 - accuracy: 0.9602 - val_loss: 0.2889 - val_accuracy: 0.8866\n",
            "Epoch 7/20\n",
            "30/30 [==============================] - 2s 56ms/step - loss: 0.1088 - accuracy: 0.9667 - val_loss: 0.3024 - val_accuracy: 0.8863\n",
            "Epoch 8/20\n",
            "30/30 [==============================] - 1s 43ms/step - loss: 0.0901 - accuracy: 0.9746 - val_loss: 0.3184 - val_accuracy: 0.8826\n",
            "Epoch 9/20\n",
            "30/30 [==============================] - 2s 56ms/step - loss: 0.0756 - accuracy: 0.9798 - val_loss: 0.3578 - val_accuracy: 0.8738\n",
            "Epoch 10/20\n",
            "30/30 [==============================] - 2s 57ms/step - loss: 0.0630 - accuracy: 0.9848 - val_loss: 0.4035 - val_accuracy: 0.8686\n",
            "Epoch 11/20\n",
            "30/30 [==============================] - 1s 48ms/step - loss: 0.0523 - accuracy: 0.9879 - val_loss: 0.3737 - val_accuracy: 0.8780\n",
            "Epoch 12/20\n",
            "30/30 [==============================] - 1s 42ms/step - loss: 0.0451 - accuracy: 0.9893 - val_loss: 0.4010 - val_accuracy: 0.8770\n",
            "Epoch 13/20\n",
            "30/30 [==============================] - 2s 64ms/step - loss: 0.0346 - accuracy: 0.9940 - val_loss: 0.4166 - val_accuracy: 0.8750\n",
            "Epoch 14/20\n",
            "30/30 [==============================] - 2s 68ms/step - loss: 0.0309 - accuracy: 0.9946 - val_loss: 0.4392 - val_accuracy: 0.8739\n",
            "Epoch 15/20\n",
            "30/30 [==============================] - 1s 46ms/step - loss: 0.0239 - accuracy: 0.9971 - val_loss: 0.4645 - val_accuracy: 0.8735\n",
            "Epoch 16/20\n",
            "30/30 [==============================] - 2s 56ms/step - loss: 0.0239 - accuracy: 0.9954 - val_loss: 0.4794 - val_accuracy: 0.8720\n",
            "Epoch 17/20\n",
            "30/30 [==============================] - 2s 57ms/step - loss: 0.0189 - accuracy: 0.9971 - val_loss: 0.4999 - val_accuracy: 0.8725\n",
            "Epoch 18/20\n",
            "30/30 [==============================] - 1s 45ms/step - loss: 0.0145 - accuracy: 0.9980 - val_loss: 0.5200 - val_accuracy: 0.8732\n",
            "Epoch 19/20\n",
            "30/30 [==============================] - 2s 54ms/step - loss: 0.0144 - accuracy: 0.9975 - val_loss: 0.5410 - val_accuracy: 0.8704\n",
            "Epoch 20/20\n",
            "30/30 [==============================] - 2s 55ms/step - loss: 0.0069 - accuracy: 0.9998 - val_loss: 0.5688 - val_accuracy: 0.8708\n"
          ]
        }
      ],
      "source": [
        "history = model.fit(partial_x_train,\n",
        "      partial_y_train,\n",
        "      epochs=20,\n",
        "      batch_size=512,\n",
        "      validation_data=(x_val, y_val))"
      ]
    },
    {
      "cell_type": "code",
      "execution_count": 17,
      "metadata": {
        "colab": {
          "base_uri": "https://localhost:8080/"
        },
        "id": "RUulM7xmc5YM",
        "outputId": "ceab2e25-6083-4502-982a-7ec34c241ca9"
      },
      "outputs": [
        {
          "output_type": "execute_result",
          "data": {
            "text/plain": [
              "{'loss': [0.5201658606529236,\n",
              "  0.31338244676589966,\n",
              "  0.23126931488513947,\n",
              "  0.18413382768630981,\n",
              "  0.15093964338302612,\n",
              "  0.1265747994184494,\n",
              "  0.10879643261432648,\n",
              "  0.09007352590560913,\n",
              "  0.07561081647872925,\n",
              "  0.06297298520803452,\n",
              "  0.05226808786392212,\n",
              "  0.045060303062200546,\n",
              "  0.034605175256729126,\n",
              "  0.030876608565449715,\n",
              "  0.02392316423356533,\n",
              "  0.023946821689605713,\n",
              "  0.018870418891310692,\n",
              "  0.014532416127622128,\n",
              "  0.014409800060093403,\n",
              "  0.006927806418389082],\n",
              " 'accuracy': [0.7705333232879639,\n",
              "  0.8974666595458984,\n",
              "  0.9235333204269409,\n",
              "  0.9387333393096924,\n",
              "  0.9508666396141052,\n",
              "  0.9602000117301941,\n",
              "  0.9667333364486694,\n",
              "  0.9746000170707703,\n",
              "  0.9797999858856201,\n",
              "  0.9847999811172485,\n",
              "  0.9878666400909424,\n",
              "  0.9892666935920715,\n",
              "  0.9940000176429749,\n",
              "  0.9945999979972839,\n",
              "  0.9970666766166687,\n",
              "  0.9954000115394592,\n",
              "  0.9970666766166687,\n",
              "  0.9980000257492065,\n",
              "  0.9975333213806152,\n",
              "  0.9998000264167786],\n",
              " 'val_loss': [0.3855067789554596,\n",
              "  0.3194286823272705,\n",
              "  0.28269162774086,\n",
              "  0.28223246335983276,\n",
              "  0.293724000453949,\n",
              "  0.28891077637672424,\n",
              "  0.30243468284606934,\n",
              "  0.31839224696159363,\n",
              "  0.35778820514678955,\n",
              "  0.4035342335700989,\n",
              "  0.37372222542762756,\n",
              "  0.4010285437107086,\n",
              "  0.41659945249557495,\n",
              "  0.4392007291316986,\n",
              "  0.4645177125930786,\n",
              "  0.4794149398803711,\n",
              "  0.49991580843925476,\n",
              "  0.520012378692627,\n",
              "  0.5410171747207642,\n",
              "  0.568807065486908],\n",
              " 'val_accuracy': [0.8716999888420105,\n",
              "  0.8797000050544739,\n",
              "  0.8902000188827515,\n",
              "  0.8858000040054321,\n",
              "  0.8844000101089478,\n",
              "  0.8866000175476074,\n",
              "  0.8863000273704529,\n",
              "  0.8826000094413757,\n",
              "  0.8737999796867371,\n",
              "  0.8686000108718872,\n",
              "  0.878000020980835,\n",
              "  0.8769999742507935,\n",
              "  0.875,\n",
              "  0.8738999962806702,\n",
              "  0.8734999895095825,\n",
              "  0.871999979019165,\n",
              "  0.8725000023841858,\n",
              "  0.873199999332428,\n",
              "  0.8704000115394592,\n",
              "  0.8708000183105469]}"
            ]
          },
          "metadata": {},
          "execution_count": 17
        }
      ],
      "source": [
        "history_dict = history.history\n",
        "history_dict"
      ]
    },
    {
      "cell_type": "code",
      "execution_count": 18,
      "metadata": {
        "colab": {
          "base_uri": "https://localhost:8080/"
        },
        "id": "7O9mOvjJePEc",
        "outputId": "ad4f4bd9-b7da-458f-a807-c5220325089e"
      },
      "outputs": [
        {
          "output_type": "execute_result",
          "data": {
            "text/plain": [
              "dict_keys(['loss', 'accuracy', 'val_loss', 'val_accuracy'])"
            ]
          },
          "metadata": {},
          "execution_count": 18
        }
      ],
      "source": [
        "history_dict.keys()"
      ]
    },
    {
      "cell_type": "markdown",
      "metadata": {
        "id": "5GnCGPXweXfp"
      },
      "source": [
        "The dictionary contains four entries: one per metric that was being monitored during\n",
        "training and during validation. In the following two listing, let’s use Matplotlib to plot\n",
        "the training and validation loss side by side"
      ]
    },
    {
      "cell_type": "code",
      "execution_count": 19,
      "metadata": {
        "colab": {
          "base_uri": "https://localhost:8080/",
          "height": 472
        },
        "id": "0TeipurGeYGq",
        "outputId": "9ca9aedb-f82d-49a6-b88d-0f63fcd82932"
      },
      "outputs": [
        {
          "output_type": "display_data",
          "data": {
            "text/plain": [
              "<Figure size 640x480 with 1 Axes>"
            ],
            "image/png": "[encoded data removed]"
          },
          "metadata": {}
        }
      ],
      "source": [
        "import matplotlib.pyplot as plt\n",
        "history_dict = history.history\n",
        "\n",
        "loss_values = history_dict['loss']\n",
        "val_loss_values = history_dict['val_loss']\n",
        "accuracy = history_dict['accuracy']\n",
        "epochs = range(1, len(accuracy) + 1)\n",
        "plt.plot(epochs, loss_values, 'bo', label='Training loss')\n",
        "plt.plot(epochs, val_loss_values, 'b', label='Validation loss')\n",
        "plt.title('Training and validation loss')\n",
        "plt.xlabel('Epochs')\n",
        "plt.ylabel('Loss')\n",
        "plt.legend()\n",
        "plt.show()"
      ]
    },
    {
      "cell_type": "markdown",
      "metadata": {
        "id": "tCMvIEM3fGUc"
      },
      "source": [
        "Plotting the training and validation accuracy"
      ]
    },
    {
      "cell_type": "code",
      "execution_count": 20,
      "metadata": {
        "colab": {
          "base_uri": "https://localhost:8080/",
          "height": 472
        },
        "id": "i9sv6tpGfDs0",
        "outputId": "6629b8a8-758e-4958-e3d2-f7129793c9b1"
      },
      "outputs": [
        {
          "output_type": "display_data",
          "data": {
            "text/plain": [
              "<Figure size 640x480 with 1 Axes>"
            ],
            "image/png": "[encoded data removed]"
          },
          "metadata": {}
        }
      ],
      "source": [
        "plt.clf()\n",
        "acc_values = history_dict['accuracy']\n",
        "val_acc_values = history_dict['val_accuracy']\n",
        "plt.plot(epochs, acc_values, 'bo', label='Training acc')\n",
        "plt.plot(epochs, val_acc_values, 'b', label='Validation acc')\n",
        "plt.title('Training and validation accuracy')\n",
        "plt.xlabel('Epochs')\n",
        "plt.ylabel('Loss')\n",
        "plt.legend()\n",
        "plt.show()"
      ]
    },
    {
      "cell_type": "markdown",
      "source": [
        "during the training of a neural network, the training loss decreases and the training accuracy increases with each epoch, as expected with gradient descent optimization. However, the validation loss and accuracy do not always follow the same trend, and may peak after a certain point, indicating overfitting. Overfitting occurs when the model learns patterns specific to the training data but fails to generalize to unseen data.\n",
        "\n",
        "To prevent overfitting, you can stop training early, before the model starts overoptimizing on the training data. There are various techniques to mitigate overfitting, such as early stopping, regularization, and dropout. Early stopping involves monitoring the model's performance on the validation set and stopping the training when the performance starts to degrade. Other techniques like regularization and weight decay penalize model complexity to encourage simpler models that generalize better."
      ],
      "metadata": {
        "id": "xbp1TU4IjSBM"
      }
    },
    {
      "cell_type": "markdown",
      "metadata": {
        "id": "lj-w4-qwf4zf"
      },
      "source": [
        "Retraining a model from scratch"
      ]
    },
    {
      "cell_type": "code",
      "execution_count": 21,
      "metadata": {
        "colab": {
          "base_uri": "https://localhost:8080/"
        },
        "id": "IMoYdyiGf4bY",
        "outputId": "a4b55541-2671-4e8b-a248-79a99749d492"
      },
      "outputs": [
        {
          "output_type": "stream",
          "name": "stdout",
          "text": [
            "Epoch 1/4\n",
            "49/49 [==============================] - 3s 41ms/step - loss: 0.4929 - accuracy: 0.8145\n",
            "Epoch 2/4\n",
            "49/49 [==============================] - 3s 52ms/step - loss: 0.2967 - accuracy: 0.8941\n",
            "Epoch 3/4\n",
            "49/49 [==============================] - 2s 35ms/step - loss: 0.2329 - accuracy: 0.9160\n",
            "Epoch 4/4\n",
            "49/49 [==============================] - 2s 35ms/step - loss: 0.1968 - accuracy: 0.9281\n",
            "782/782 [==============================] - 4s 5ms/step - loss: 0.2791 - accuracy: 0.8875\n"
          ]
        }
      ],
      "source": [
        "model = models.Sequential()\n",
        "model.add(layers.Dense(16, activation='relu', input_shape=(10000,)))\n",
        "model.add(layers.Dense(16, activation='relu'))\n",
        "model.add(layers.Dense(1, activation='sigmoid'))\n",
        "model.compile(optimizer='rmsprop',\n",
        "loss='binary_crossentropy',\n",
        "metrics=['accuracy'])\n",
        "\n",
        "model.fit(x_train, y_train, epochs=4, batch_size=512)\n",
        "results = model.evaluate(x_test, y_test)"
      ]
    },
    {
      "cell_type": "code",
      "source": [
        "results"
      ],
      "metadata": {
        "colab": {
          "base_uri": "https://localhost:8080/"
        },
        "id": "SxR-6QMokDtR",
        "outputId": "d5610a80-b621-4e2e-b24a-cde664e0e6ff"
      },
      "execution_count": 22,
      "outputs": [
        {
          "output_type": "execute_result",
          "data": {
            "text/plain": [
              "[0.27912965416908264, 0.8874800205230713]"
            ]
          },
          "metadata": {},
          "execution_count": 22
        }
      ]
    },
    {
      "cell_type": "code",
      "source": [
        "model.predict(x_test)"
      ],
      "metadata": {
        "colab": {
          "base_uri": "https://localhost:8080/"
        },
        "id": "pR2VHFAUkHv6",
        "outputId": "b2cf3414-d4c3-4b55-9087-951569c987b9"
      },
      "execution_count": 23,
      "outputs": [
        {
          "output_type": "stream",
          "name": "stdout",
          "text": [
            "782/782 [==============================] - 2s 3ms/step\n"
          ]
        },
        {
          "output_type": "execute_result",
          "data": {
            "text/plain": [
              "array([[0.2369473 ],\n",
              "       [0.9997196 ],\n",
              "       [0.8996685 ],\n",
              "       ...,\n",
              "       [0.09226181],\n",
              "       [0.10850436],\n",
              "       [0.5654733 ]], dtype=float32)"
            ]
          },
          "metadata": {},
          "execution_count": 23
        }
      ]
    }
  ],
  "metadata": {
    "colab": {
      "provenance": []
    },
    "kernelspec": {
      "display_name": "Python 3",
      "name": "python3"
    },
    "language_info": {
      "name": "python"
    },
    "gpuClass": "standard"
  },
  "nbformat": 4,
  "nbformat_minor": 0
}